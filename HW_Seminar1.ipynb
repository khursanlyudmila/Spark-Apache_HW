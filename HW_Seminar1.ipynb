{
  "nbformat": 4,
  "nbformat_minor": 0,
  "metadata": {
    "colab": {
      "provenance": [],
      "toc_visible": true
    },
    "kernelspec": {
      "name": "python3",
      "display_name": "Python 3"
    },
    "language_info": {
      "name": "python"
    }
  },
  "cells": [
    {
      "cell_type": "markdown",
      "source": [
        "**Найти самую длинную последовательность упорядоченных чисел в RDD и вывести её.**"
      ],
      "metadata": {
        "id": "iw68BA1S5qA_"
      }
    },
    {
      "cell_type": "code",
      "source": [
        "!pip install pyspark"
      ],
      "metadata": {
        "colab": {
          "base_uri": "https://localhost:8080/"
        },
        "id": "kY9Hw4K0hYEN",
        "outputId": "fc736129-457e-477d-bb00-14edcefb3e36"
      },
      "execution_count": null,
      "outputs": [
        {
          "output_type": "stream",
          "name": "stdout",
          "text": [
            "Collecting pyspark\n",
            "  Downloading pyspark-3.5.1.tar.gz (317.0 MB)\n",
            "\u001b[2K     \u001b[90m━━━━━━━━━━━━━━━━━━━━━━━━━━━━━━━━━━━━━━━━\u001b[0m \u001b[32m317.0/317.0 MB\u001b[0m \u001b[31m4.3 MB/s\u001b[0m eta \u001b[36m0:00:00\u001b[0m\n",
            "\u001b[?25h  Preparing metadata (setup.py) ... \u001b[?25l\u001b[?25hdone\n",
            "Requirement already satisfied: py4j==0.10.9.7 in /usr/local/lib/python3.10/dist-packages (from pyspark) (0.10.9.7)\n",
            "Building wheels for collected packages: pyspark\n",
            "  Building wheel for pyspark (setup.py) ... \u001b[?25l\u001b[?25hdone\n",
            "  Created wheel for pyspark: filename=pyspark-3.5.1-py2.py3-none-any.whl size=317488491 sha256=453e3e1c568d7cd777432d30a0a27e8cef3de50e3e2117749d836fd6663d438a\n",
            "  Stored in directory: /root/.cache/pip/wheels/80/1d/60/2c256ed38dddce2fdd93be545214a63e02fbd8d74fb0b7f3a6\n",
            "Successfully built pyspark\n",
            "Installing collected packages: pyspark\n",
            "Successfully installed pyspark-3.5.1\n"
          ]
        }
      ]
    },
    {
      "cell_type": "code",
      "source": [
        "import pyspark\n",
        "from pyspark import SparkContext\n",
        "from pyspark.sql import SparkSession"
      ],
      "metadata": {
        "id": "2DkessafhDBH"
      },
      "execution_count": null,
      "outputs": []
    },
    {
      "cell_type": "code",
      "execution_count": null,
      "metadata": {
        "id": "2NFxzBB9gQkO"
      },
      "outputs": [],
      "source": [
        "from pyspark.sql import SparkSession\n",
        "\n",
        "def find_longest_ordered_sequence_rdd(rdd):\n",
        "    # Validate input RDD\n",
        "    if rdd.isEmpty():\n",
        "        raise ValueError(\"Input RDD is empty\")\n",
        "\n",
        "    try:\n",
        "        # Convert RDD elements to integers and sort them\n",
        "        ordered_rdd = rdd.map(lambda x: int(x)).sortBy(lambda x: x).collect()\n",
        "\n",
        "        # Initialize variables to store the current sequence and the longest sequence\n",
        "        current_sequence = []\n",
        "        longest_sequence = []\n",
        "\n",
        "        for num in ordered_rdd:\n",
        "            if not current_sequence or num == current_sequence[-1] + 1:\n",
        "                current_sequence.append(num)\n",
        "            else:\n",
        "                if len(current_sequence) > len(longest_sequence):\n",
        "                    longest_sequence = current_sequence.copy()\n",
        "                current_sequence = [num]\n",
        "\n",
        "        # Check for the longest sequence at the end\n",
        "        if len(current_sequence) > len(longest_sequence):\n",
        "            longest_sequence = current_sequence\n",
        "\n",
        "        return longest_sequence\n",
        "\n",
        "    except ValueError:\n",
        "        raise ValueError(\"Input RDD does not contain valid numerical data\")"
      ]
    },
    {
      "cell_type": "code",
      "source": [
        "# Create a Spark session\n",
        "spark = SparkSession.builder.appName(\"longest_sequence\").getOrCreate()\n",
        "\n",
        "# Sample input RDD with a sequence of numbers\n",
        "data = [30, 55, 150, 180, -10, 56, 34, 24, 45, 58, 67, 123, 150, 44, 32, 66, 77, 88, 57, 46]\n",
        "rdd = spark.sparkContext.parallelize(data)\n",
        "\n",
        "# Find the longest sequential sequence of ordered numbers in the RDD\n",
        "result = find_longest_ordered_sequence_rdd(rdd)\n",
        "\n",
        "print(\"Longest Sequential Sequence:\", result)"
      ],
      "metadata": {
        "colab": {
          "base_uri": "https://localhost:8080/"
        },
        "id": "9V1u5KC5iKI2",
        "outputId": "103e15eb-9123-4d4f-8575-4ff7de345640"
      },
      "execution_count": null,
      "outputs": [
        {
          "output_type": "stream",
          "name": "stdout",
          "text": [
            "Longest Sequential Sequence: [55, 56, 57, 58]\n"
          ]
        }
      ]
    }
  ]
}