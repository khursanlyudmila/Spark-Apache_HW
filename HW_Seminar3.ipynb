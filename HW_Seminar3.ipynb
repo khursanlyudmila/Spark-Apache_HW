{
  "nbformat": 4,
  "nbformat_minor": 0,
  "metadata": {
    "colab": {
      "provenance": []
    },
    "kernelspec": {
      "name": "python3",
      "display_name": "Python 3"
    },
    "language_info": {
      "name": "python"
    }
  },
  "cells": [
    {
      "cell_type": "markdown",
      "source": [
        "Условие: есть набор данных о продажах продуктов с информацией о дате продаж, категории продукта, количестве и выручке от продаж.\n",
        "\n",
        "Используя Apache Spark, загрузите предоставленный набор данных в DataFrame (пример данных ниже).\n",
        "\n",
        "(\"2023-11-20\", \"Electronics\", 100, 12000),\n",
        "\n",
        "(\"2023-11-21\", \"Electronics\", 110, 13000),\n",
        "\n",
        "(\"2023-11-22\", \"Electronics\", 105, 12500),\n",
        "\n",
        "(\"2023-11-20\", \"Clothing\", 300, 15000),\n",
        "\n",
        "(\"2023-11-21\", \"Clothing\", 280, 14000),\n",
        "\n",
        "(\"2023-11-22\", \"Clothing\", 320, 16000),\n",
        "\n",
        "(\"2023-11-20\", \"Books\", 150, 9000),\n",
        "\n",
        "(\"2023-11-21\", \"Books\", 200, 12000),\n",
        "\n",
        "(\"2023-11-22\", \"Books\", 180, 10000)\n",
        "\n",
        "Столбцы: \"date\", \"category\", \"quantity\", \"revenue\".\n",
        "\n",
        "С использованием оконных функций, рассчитайте среднее выручки от продаж для каждой категории продукта.\n",
        "Примените операцию pivot для того, чтобы преобразовать полученные данные таким образом, чтобы в качестве строк были категории продуктов, в качестве столбцов были дни, а значениями были средние значения выручки от продаж за соответствующий день"
      ],
      "metadata": {
        "id": "T4prgsH7lSXv"
      }
    },
    {
      "cell_type": "code",
      "execution_count": 3,
      "metadata": {
        "colab": {
          "base_uri": "https://localhost:8080/"
        },
        "id": "NgmIjkLgkuZk",
        "outputId": "7b649a71-616a-4e5d-cb7d-81a5136ffb7f"
      },
      "outputs": [
        {
          "output_type": "stream",
          "name": "stdout",
          "text": [
            "Collecting pyspark\n",
            "  Downloading pyspark-3.5.1.tar.gz (317.0 MB)\n",
            "\u001b[2K     \u001b[90m━━━━━━━━━━━━━━━━━━━━━━━━━━━━━━━━━━━━━━━━\u001b[0m \u001b[32m317.0/317.0 MB\u001b[0m \u001b[31m3.6 MB/s\u001b[0m eta \u001b[36m0:00:00\u001b[0m\n",
            "\u001b[?25h  Preparing metadata (setup.py) ... \u001b[?25l\u001b[?25hdone\n",
            "Requirement already satisfied: py4j==0.10.9.7 in /usr/local/lib/python3.10/dist-packages (from pyspark) (0.10.9.7)\n",
            "Building wheels for collected packages: pyspark\n",
            "  Building wheel for pyspark (setup.py) ... \u001b[?25l\u001b[?25hdone\n",
            "  Created wheel for pyspark: filename=pyspark-3.5.1-py2.py3-none-any.whl size=317488491 sha256=d7ad92f2ffa92590f232048f080876267bd625398c9068805624bee9f3489335\n",
            "  Stored in directory: /root/.cache/pip/wheels/80/1d/60/2c256ed38dddce2fdd93be545214a63e02fbd8d74fb0b7f3a6\n",
            "Successfully built pyspark\n",
            "Installing collected packages: pyspark\n",
            "Successfully installed pyspark-3.5.1\n"
          ]
        }
      ],
      "source": [
        "!pip install pyspark"
      ]
    },
    {
      "cell_type": "code",
      "source": [
        "import pyspark\n",
        "from pyspark.sql import SparkSession\n",
        "from pyspark.sql.window import Window\n",
        "from pyspark.sql.functions import sum, avg, when, max, day, col, mean\n",
        "import pyspark.sql.functions as f\n",
        "import pandas as pd"
      ],
      "metadata": {
        "id": "kvjCMfuvlQM1"
      },
      "execution_count": 10,
      "outputs": []
    },
    {
      "cell_type": "code",
      "source": [
        "# Create a Spark session\n",
        "spark = SparkSession.builder.appName(\"purchase_analysis\").getOrCreate()\n",
        "\n",
        "# Create dataframe\n",
        "purchases_df = spark.createDataFrame([\n",
        "  (\"2023-11-20\", \"Electronics\", 100, 12000),\n",
        "  (\"2023-11-21\", \"Electronics\", 110, 13000),\n",
        "  (\"2023-11-22\", \"Electronics\", 105, 12500),\n",
        "  (\"2023-11-20\", \"Clothing\", 300, 15000),\n",
        "  (\"2023-11-21\", \"Clothing\", 280, 14000),\n",
        "  (\"2023-11-22\", \"Clothing\", 320, 16000),\n",
        "  (\"2023-11-20\", \"Books\", 150, 9000),\n",
        "  (\"2023-11-21\", \"Books\", 200, 12000),\n",
        "  (\"2023-11-22\", \"Books\", 180, 10000)\n",
        "], [\"date\", \"category\", \"quantity\", \"revenue\"])\n",
        "\n",
        "# Result of average revenue per good category\n",
        "result_avarage_rev_per_category = purchases_df.groupBy(\"category\").agg(avg(\"revenue\").alias(\"avg_rev_per_category\"))\n",
        "result_avarage_rev_per_category.show()\n"
      ],
      "metadata": {
        "colab": {
          "base_uri": "https://localhost:8080/"
        },
        "id": "ezj60z15oEmR",
        "outputId": "a495b8cf-b325-42c7-b4b0-30586ac8b129"
      },
      "execution_count": 6,
      "outputs": [
        {
          "output_type": "stream",
          "name": "stdout",
          "text": [
            "+-----------+--------------------+\n",
            "|   category|avg_rev_per_category|\n",
            "+-----------+--------------------+\n",
            "|Electronics|             12500.0|\n",
            "|   Clothing|             15000.0|\n",
            "|      Books|  10333.333333333334|\n",
            "+-----------+--------------------+\n",
            "\n"
          ]
        }
      ]
    },
    {
      "cell_type": "code",
      "source": [
        "# Result of average revenue per good category with using Window functions\n",
        "windowSpec = Window.partitionBy(\"category\")\n",
        "result_avarage_rev_per_category_window_func = purchases_df.withColumn(\"avg_rev_per_category\", avg(col(\"revenue\")).over(windowSpec)).show()"
      ],
      "metadata": {
        "colab": {
          "base_uri": "https://localhost:8080/"
        },
        "id": "K4Zhx0TrzRCh",
        "outputId": "5df8551f-9950-4edf-d9bb-a5979c9111dc"
      },
      "execution_count": 20,
      "outputs": [
        {
          "output_type": "stream",
          "name": "stdout",
          "text": [
            "+----------+-----------+--------+-------+--------------------+\n",
            "|      date|   category|quantity|revenue|avg_rev_per_category|\n",
            "+----------+-----------+--------+-------+--------------------+\n",
            "|2023-11-20|      Books|     150|   9000|  10333.333333333334|\n",
            "|2023-11-21|      Books|     200|  12000|  10333.333333333334|\n",
            "|2023-11-22|      Books|     180|  10000|  10333.333333333334|\n",
            "|2023-11-20|   Clothing|     300|  15000|             15000.0|\n",
            "|2023-11-21|   Clothing|     280|  14000|             15000.0|\n",
            "|2023-11-22|   Clothing|     320|  16000|             15000.0|\n",
            "|2023-11-20|Electronics|     100|  12000|             12500.0|\n",
            "|2023-11-21|Electronics|     110|  13000|             12500.0|\n",
            "|2023-11-22|Electronics|     105|  12500|             12500.0|\n",
            "+----------+-----------+--------+-------+--------------------+\n",
            "\n"
          ]
        }
      ]
    },
    {
      "cell_type": "code",
      "source": [
        "# Result of average revenue per good category and days\n",
        "purchases_df = purchases_df.withColumn(\"order_day\", day(purchases_df[\"date\"]))\n",
        "result_avarage_rev_per_category_days = purchases_df.groupby(col(\"category\"), col(\"order_day\")).agg(mean(col(\"revenue\")))\n",
        "result_avarage_rev_per_category_days.show()\n"
      ],
      "metadata": {
        "colab": {
          "base_uri": "https://localhost:8080/"
        },
        "id": "QVzU704quxK8",
        "outputId": "7714a1c6-0a35-4b22-d405-79f0aea1f092"
      },
      "execution_count": 27,
      "outputs": [
        {
          "output_type": "stream",
          "name": "stdout",
          "text": [
            "+-----------+---------+------------+\n",
            "|   category|order_day|avg(revenue)|\n",
            "+-----------+---------+------------+\n",
            "|Electronics|       21|     13000.0|\n",
            "|   Clothing|       20|     15000.0|\n",
            "|Electronics|       22|     12500.0|\n",
            "|Electronics|       20|     12000.0|\n",
            "|      Books|       21|     12000.0|\n",
            "|   Clothing|       22|     16000.0|\n",
            "|   Clothing|       21|     14000.0|\n",
            "|      Books|       20|      9000.0|\n",
            "|      Books|       22|     10000.0|\n",
            "+-----------+---------+------------+\n",
            "\n"
          ]
        }
      ]
    },
    {
      "cell_type": "code",
      "source": [
        "# Result of average revenue per good category and days with using Window functions\n",
        "purchases_df = purchases_df.withColumn(\"order_day\", day(purchases_df[\"date\"]))\n",
        "windowSpec1 = Window.partitionBy(\"category\", \"order_day\")\n",
        "result_avarage_rev_per_category_days_window_func = purchases_df.withColumn(\"avg_rev_per_category\", mean(col(\"revenue\")).over(windowSpec1))\n",
        "result_with_separate_columns = result_avarage_rev_per_category_days_window_func.select(col(\"category\"), col(\"order_day\"), col(\"avg_rev_per_category\")).show()\n"
      ],
      "metadata": {
        "colab": {
          "base_uri": "https://localhost:8080/"
        },
        "id": "_BcEumACAimv",
        "outputId": "0bcc8799-504e-46eb-e41c-69a447faa877"
      },
      "execution_count": 33,
      "outputs": [
        {
          "output_type": "stream",
          "name": "stdout",
          "text": [
            "+-----------+---------+--------------------+\n",
            "|   category|order_day|avg_rev_per_category|\n",
            "+-----------+---------+--------------------+\n",
            "|      Books|       20|              9000.0|\n",
            "|      Books|       21|             12000.0|\n",
            "|      Books|       22|             10000.0|\n",
            "|   Clothing|       20|             15000.0|\n",
            "|   Clothing|       21|             14000.0|\n",
            "|   Clothing|       22|             16000.0|\n",
            "|Electronics|       20|             12000.0|\n",
            "|Electronics|       21|             13000.0|\n",
            "|Electronics|       22|             12500.0|\n",
            "+-----------+---------+--------------------+\n",
            "\n"
          ]
        }
      ]
    },
    {
      "cell_type": "code",
      "source": [
        "# Result of average revenue per good category and days with pivot table\n",
        "pivot_result = purchases_df.groupBy(\"category\").pivot(\"order_day\").agg(mean(\"revenue\"))\n",
        "pivot_result.show()"
      ],
      "metadata": {
        "colab": {
          "base_uri": "https://localhost:8080/"
        },
        "id": "RzaVv3_Pzhmb",
        "outputId": "3c9e5a23-cb5a-46c8-fad3-74a7fbf0cd17"
      },
      "execution_count": 30,
      "outputs": [
        {
          "output_type": "stream",
          "name": "stdout",
          "text": [
            "+-----------+-------+-------+-------+\n",
            "|   category|     20|     21|     22|\n",
            "+-----------+-------+-------+-------+\n",
            "|Electronics|12000.0|13000.0|12500.0|\n",
            "|   Clothing|15000.0|14000.0|16000.0|\n",
            "|      Books| 9000.0|12000.0|10000.0|\n",
            "+-----------+-------+-------+-------+\n",
            "\n"
          ]
        }
      ]
    }
  ]
}