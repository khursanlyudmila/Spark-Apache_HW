{
  "nbformat": 4,
  "nbformat_minor": 0,
  "metadata": {
    "colab": {
      "provenance": []
    },
    "kernelspec": {
      "name": "python3",
      "display_name": "Python 3"
    },
    "language_info": {
      "name": "python"
    }
  },
  "cells": [
    {
      "cell_type": "markdown",
      "source": [
        "Условие: дана таблица с колонками (id, name, salary, managerId), студентам необходимо написать код на spark, который создаст эту таблицу (данные указаны ниже) и в результате выдаст таблицу в которой будут имена сотрудников, которые зарабатывают больше своих менеджеров."
      ],
      "metadata": {
        "id": "T4prgsH7lSXv"
      }
    },
    {
      "cell_type": "code",
      "execution_count": null,
      "metadata": {
        "colab": {
          "base_uri": "https://localhost:8080/"
        },
        "id": "NgmIjkLgkuZk",
        "outputId": "c16c239b-f057-48ec-a786-d69696affbe9"
      },
      "outputs": [
        {
          "output_type": "stream",
          "name": "stdout",
          "text": [
            "Collecting pyspark\n",
            "  Downloading pyspark-3.5.1.tar.gz (317.0 MB)\n",
            "\u001b[2K     \u001b[90m━━━━━━━━━━━━━━━━━━━━━━━━━━━━━━━━━━━━━━━━\u001b[0m \u001b[32m317.0/317.0 MB\u001b[0m \u001b[31m2.9 MB/s\u001b[0m eta \u001b[36m0:00:00\u001b[0m\n",
            "\u001b[?25h  Preparing metadata (setup.py) ... \u001b[?25l\u001b[?25hdone\n",
            "Requirement already satisfied: py4j==0.10.9.7 in /usr/local/lib/python3.10/dist-packages (from pyspark) (0.10.9.7)\n",
            "Building wheels for collected packages: pyspark\n",
            "  Building wheel for pyspark (setup.py) ... \u001b[?25l\u001b[?25hdone\n",
            "  Created wheel for pyspark: filename=pyspark-3.5.1-py2.py3-none-any.whl size=317488491 sha256=49762ea8addc770377430acfe666ca217bd67f5841d7b05b85fac3a2812efad2\n",
            "  Stored in directory: /root/.cache/pip/wheels/80/1d/60/2c256ed38dddce2fdd93be545214a63e02fbd8d74fb0b7f3a6\n",
            "Successfully built pyspark\n",
            "Installing collected packages: pyspark\n",
            "Successfully installed pyspark-3.5.1\n"
          ]
        }
      ],
      "source": [
        "!pip install pyspark"
      ]
    },
    {
      "cell_type": "code",
      "source": [
        "import pyspark\n",
        "from pyspark import SparkContext\n",
        "from pyspark.sql import SparkSession\n",
        "from pyspark.sql.functions import when, col\n",
        "import pandas as pd"
      ],
      "metadata": {
        "id": "kvjCMfuvlQM1"
      },
      "execution_count": 26,
      "outputs": []
    },
    {
      "cell_type": "code",
      "source": [
        "# Create a Spark session\n",
        "spark = SparkSession.builder.appName(\"salary_analysis\").getOrCreate()\n",
        "\n",
        "# Create dataframe\n",
        "salary_df = spark.createDataFrame([\n",
        "  (1, \"Joe\", 70, 3),\n",
        "  (2, \"Henry\", 80, 4),\n",
        "  (3, \"Sam\", 60, \"Null\"),\n",
        "  (4, \"Max\", 90, \"Null\"),\n",
        "], [\"ID\", \"Name\", \"Salary\", \"Manager_ID\"])\n",
        "salary_df.show()\n",
        "\n",
        "# Create additional table with managers'salary only\n",
        "managers_df = salary_df.select(\"ID\", \"Salary\").where(salary_df.Manager_ID == \"Null\").withColumnRenamed(\"ID\", \"Manager_id\").withColumnRenamed(\"Salary\", \"Manager_salary\")\n",
        "managers_df.show()\n",
        "\n",
        "# Сombining two tables\n",
        "join_df = salary_df.join(managers_df, salary_df[\"Manager_ID\"] == managers_df[\"Manager_id\"], \"inner\")\n",
        "join_df.show()\n",
        "\n",
        "#Result\n",
        "join_df.filter(join_df['Salary'] > join_df['Manager_salary']).select(join_df.Name).show()"
      ],
      "metadata": {
        "colab": {
          "base_uri": "https://localhost:8080/"
        },
        "id": "ezj60z15oEmR",
        "outputId": "097e3cf9-f2db-4a75-a33d-00c26d30d5b2"
      },
      "execution_count": 34,
      "outputs": [
        {
          "output_type": "stream",
          "name": "stdout",
          "text": [
            "+---+-----+------+----------+\n",
            "| ID| Name|Salary|Manager_ID|\n",
            "+---+-----+------+----------+\n",
            "|  1|  Joe|    70|         3|\n",
            "|  2|Henry|    80|         4|\n",
            "|  3|  Sam|    60|      Null|\n",
            "|  4|  Max|    90|      Null|\n",
            "+---+-----+------+----------+\n",
            "\n",
            "+----------+--------------+\n",
            "|Manager_id|Manager_salary|\n",
            "+----------+--------------+\n",
            "|         3|            60|\n",
            "|         4|            90|\n",
            "+----------+--------------+\n",
            "\n",
            "+---+-----+------+----------+----------+--------------+\n",
            "| ID| Name|Salary|Manager_ID|Manager_id|Manager_salary|\n",
            "+---+-----+------+----------+----------+--------------+\n",
            "|  1|  Joe|    70|         3|         3|            60|\n",
            "|  2|Henry|    80|         4|         4|            90|\n",
            "+---+-----+------+----------+----------+--------------+\n",
            "\n",
            "+----+\n",
            "|Name|\n",
            "+----+\n",
            "| Joe|\n",
            "+----+\n",
            "\n"
          ]
        }
      ]
    }
  ]
}