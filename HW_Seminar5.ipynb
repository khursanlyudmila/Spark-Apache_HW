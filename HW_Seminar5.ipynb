{
  "nbformat": 4,
  "nbformat_minor": 0,
  "metadata": {
    "colab": {
      "provenance": []
    },
    "kernelspec": {
      "name": "python3",
      "display_name": "Python 3"
    },
    "language_info": {
      "name": "python"
    }
  },
  "cells": [
    {
      "cell_type": "markdown",
      "source": [
        "Условие: создайте csv файл с таким содержимым:\n",
        "\n",
        "title,author,genre,sales,year\n",
        "\n",
        "\"1984\", \"George Orwell\", \"Science Fiction\", 5000, 1949\n",
        "\n",
        "\"The Lord of the Rings\", \"J.R.R. Tolkien\", \"Fantasy\", 3000, 1954\n",
        "\n",
        "\"To Kill a Mockingbird\", \"Harper Lee\", \"Southern Gothic\", 4000, 1960\n",
        "\n",
        "\"The Catcher in the Rye\", \"J.D. Salinger\", \"Novel\", 2000, 1951\n",
        "\n",
        "\"The Great Gatsby\", \"F. Scott Fitzgerald\", \"Novel\", 4500, 1925\n",
        "\n",
        "**Задание:***\n",
        "\n",
        "**— Используя Spark прочитайте данные из файла csv.**\n",
        "\n",
        "**— Фильтруйте данные, чтобы оставить только книги, продажи которых превышают 3000 экземпляров.**\n",
        "\n",
        "**— Сгруппируйте данные по жанру и вычислите общий объем продаж для каждого жанра.**\n",
        "\n",
        "**— Отсортируйте данные по общему объему продаж в порядке убывания.**\n",
        "\n",
        "**— Выведите результаты на экран.**"
      ],
      "metadata": {
        "id": "s1mr5ttv3guY"
      }
    },
    {
      "cell_type": "code",
      "execution_count": 1,
      "metadata": {
        "colab": {
          "base_uri": "https://localhost:8080/"
        },
        "id": "NtadDSkT3WuR",
        "outputId": "d282ae46-fae5-43f0-fdbd-daf886c9aade"
      },
      "outputs": [
        {
          "output_type": "stream",
          "name": "stdout",
          "text": [
            "Collecting pyspark\n",
            "  Downloading pyspark-3.5.1.tar.gz (317.0 MB)\n",
            "\u001b[2K     \u001b[90m━━━━━━━━━━━━━━━━━━━━━━━━━━━━━━━━━━━━━━━━\u001b[0m \u001b[32m317.0/317.0 MB\u001b[0m \u001b[31m2.7 MB/s\u001b[0m eta \u001b[36m0:00:00\u001b[0m\n",
            "\u001b[?25h  Preparing metadata (setup.py) ... \u001b[?25l\u001b[?25hdone\n",
            "Requirement already satisfied: py4j==0.10.9.7 in /usr/local/lib/python3.10/dist-packages (from pyspark) (0.10.9.7)\n",
            "Building wheels for collected packages: pyspark\n",
            "  Building wheel for pyspark (setup.py) ... \u001b[?25l\u001b[?25hdone\n",
            "  Created wheel for pyspark: filename=pyspark-3.5.1-py2.py3-none-any.whl size=317488491 sha256=c7026fd263fb0465505807f8abf9c2f7b6ccae331c7ae3ef18c4886695eb09e2\n",
            "  Stored in directory: /root/.cache/pip/wheels/80/1d/60/2c256ed38dddce2fdd93be545214a63e02fbd8d74fb0b7f3a6\n",
            "Successfully built pyspark\n",
            "Installing collected packages: pyspark\n",
            "Successfully installed pyspark-3.5.1\n"
          ]
        }
      ],
      "source": [
        "!pip install pyspark"
      ]
    },
    {
      "cell_type": "code",
      "source": [
        "from pyspark.sql import SparkSession\n",
        "from pyspark.sql.window import Window\n",
        "from pyspark.sql.functions import sum, avg, when, max, day, col, mean\n",
        "import pyspark.sql.functions as fn\n",
        "from pyspark.sql.types import DoubleType"
      ],
      "metadata": {
        "id": "fx3R2_354MKX"
      },
      "execution_count": 16,
      "outputs": []
    },
    {
      "cell_type": "code",
      "source": [
        "# Создание Spark сессии\n",
        "spark = SparkSession.builder.appName(\"Books_statistics\").getOrCreate()"
      ],
      "metadata": {
        "id": "xWW4mInB4O88"
      },
      "execution_count": 6,
      "outputs": []
    },
    {
      "cell_type": "code",
      "source": [
        "# Загрузка данных\n",
        "df = spark.read.format(\"csv\").option(\"header\", \"true\").option(\"inferSchema\", \"true\").load(\"Seminar5_books.csv\")\n",
        "print(\"Dataset:\")\n",
        "df.show()"
      ],
      "metadata": {
        "colab": {
          "base_uri": "https://localhost:8080/"
        },
        "id": "QP-YSy5S9H71",
        "outputId": "beced30a-c54c-4be4-e788-95b3a90ac7b7"
      },
      "execution_count": 37,
      "outputs": [
        {
          "output_type": "stream",
          "name": "stdout",
          "text": [
            "Dataset:\n",
            "+--------------------+--------------------+------------------+------+------+\n",
            "|               title|              author|             genre| sales|  year|\n",
            "+--------------------+--------------------+------------------+------+------+\n",
            "|                1984|     \"George Orwell\"| \"Science Fiction\"|5000.0|1949.0|\n",
            "|The Lord of the R...|    \"J.R.R. Tolkien\"|         \"Fantasy\"|3000.0|1954.0|\n",
            "|To Kill a Mocking...|        \"Harper Lee\"| \"Southern Gothic\"|4000.0|1960.0|\n",
            "|The Catcher in th...|     \"J.D. Salinger\"|           \"Novel\"|2000.0|1951.0|\n",
            "|    The Great Gatsby| \"F. Scott Fitzge...|           \"Novel\"|4500.0|1925.0|\n",
            "+--------------------+--------------------+------------------+------+------+\n",
            "\n"
          ]
        }
      ]
    },
    {
      "cell_type": "code",
      "source": [
        "# Фильтрация книг, продажи по которым превышают 3000 экземпляров\n",
        "filtered_df = df.filter(df.sales > 3000)\n",
        "print(\"Фильтрация по продажам (более 3000 экземпляров):\")\n",
        "filtered_df.show()"
      ],
      "metadata": {
        "colab": {
          "base_uri": "https://localhost:8080/"
        },
        "id": "ZuxDi5dN9Mpu",
        "outputId": "9b55f0a8-aeb9-4703-8136-9bf9913c7671"
      },
      "execution_count": 38,
      "outputs": [
        {
          "output_type": "stream",
          "name": "stdout",
          "text": [
            "Фильтрация по продажам (более 3000 экземпляров):\n",
            "+--------------------+--------------------+------------------+------+------+\n",
            "|               title|              author|             genre| sales|  year|\n",
            "+--------------------+--------------------+------------------+------+------+\n",
            "|                1984|     \"George Orwell\"| \"Science Fiction\"|5000.0|1949.0|\n",
            "|To Kill a Mocking...|        \"Harper Lee\"| \"Southern Gothic\"|4000.0|1960.0|\n",
            "|    The Great Gatsby| \"F. Scott Fitzge...|           \"Novel\"|4500.0|1925.0|\n",
            "+--------------------+--------------------+------------------+------+------+\n",
            "\n"
          ]
        }
      ]
    },
    {
      "cell_type": "code",
      "source": [
        "# Группировка данных по жанру и вычисление общего объема продаж для каждого жанра\n",
        "window_spec = Window.partitionBy(\"genre\")\n",
        "sum_sales_by_genre_df = df.withColumn(\"sum_sales_by_genre\", sum(col(\"sales\")).over(window_spec)).show()"
      ],
      "metadata": {
        "colab": {
          "base_uri": "https://localhost:8080/"
        },
        "id": "drTUas9j-qBu",
        "outputId": "bf3e7d5f-a81a-432b-916a-ddf01c55e2fd"
      },
      "execution_count": 39,
      "outputs": [
        {
          "output_type": "stream",
          "name": "stdout",
          "text": [
            "+--------------------+--------------------+------------------+------+------+------------------+\n",
            "|               title|              author|             genre| sales|  year|sum_sales_by_genre|\n",
            "+--------------------+--------------------+------------------+------+------+------------------+\n",
            "|The Lord of the R...|    \"J.R.R. Tolkien\"|         \"Fantasy\"|3000.0|1954.0|            3000.0|\n",
            "|The Catcher in th...|     \"J.D. Salinger\"|           \"Novel\"|2000.0|1951.0|            6500.0|\n",
            "|    The Great Gatsby| \"F. Scott Fitzge...|           \"Novel\"|4500.0|1925.0|            6500.0|\n",
            "|                1984|     \"George Orwell\"| \"Science Fiction\"|5000.0|1949.0|            5000.0|\n",
            "|To Kill a Mocking...|        \"Harper Lee\"| \"Southern Gothic\"|4000.0|1960.0|            4000.0|\n",
            "+--------------------+--------------------+------------------+------+------+------------------+\n",
            "\n"
          ]
        }
      ]
    },
    {
      "cell_type": "code",
      "source": [
        "# Сортировка данных по общему объему продаж в порядке убывания и вывод результатов:\n",
        "print(\"Общие объемы продаж по жанрам в порядке убывания:\")\n",
        "window_spec = Window.partitionBy(\"genre\")\n",
        "sum_sales_by_genre_df = df.withColumn(\"sum_sales_by_genre\", sum(col(\"sales\")).over(window_spec))\n",
        "result = sum_sales_by_genre_df.select([\"genre\", \"sum_sales_by_genre\"]).distinct() \\\n",
        "    .orderBy(sum_sales_by_genre_df.sum_sales_by_genre.desc()).show()"
      ],
      "metadata": {
        "colab": {
          "base_uri": "https://localhost:8080/"
        },
        "id": "UTHW5w-HGOrU",
        "outputId": "c0e8560d-e727-439f-9e36-e2ce86d66657"
      },
      "execution_count": 40,
      "outputs": [
        {
          "output_type": "stream",
          "name": "stdout",
          "text": [
            "Общие объемы продаж по жанрам в порядке убывания:\n",
            "+------------------+------------------+\n",
            "|             genre|sum_sales_by_genre|\n",
            "+------------------+------------------+\n",
            "|           \"Novel\"|            6500.0|\n",
            "| \"Science Fiction\"|            5000.0|\n",
            "| \"Southern Gothic\"|            4000.0|\n",
            "|         \"Fantasy\"|            3000.0|\n",
            "+------------------+------------------+\n",
            "\n"
          ]
        }
      ]
    }
  ]
}